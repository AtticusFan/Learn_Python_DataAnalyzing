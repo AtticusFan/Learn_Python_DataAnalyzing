{
 "metadata": {
  "language_info": {
   "codemirror_mode": {
    "name": "ipython",
    "version": 3
   },
   "file_extension": ".py",
   "mimetype": "text/x-python",
   "name": "python",
   "nbconvert_exporter": "python",
   "pygments_lexer": "ipython3",
   "version": "3.9.2"
  },
  "orig_nbformat": 4,
  "kernelspec": {
   "name": "python3",
   "display_name": "Python 3.9.2 64-bit"
  },
  "interpreter": {
   "hash": "247ab06e135bb35fa78c5eff31b2a9a0050dcb5fb773c2631d2a29ac689eeccb"
  }
 },
 "nbformat": 4,
 "nbformat_minor": 2,
 "cells": [
  {
   "cell_type": "code",
   "execution_count": null,
   "metadata": {},
   "outputs": [],
   "source": [
    "'''如何預測流星雨的觀測位置和時機'''"
   ]
  },
  {
   "cell_type": "code",
   "execution_count": 32,
   "metadata": {},
   "outputs": [],
   "source": [
    "import numpy as np \n",
    "import pandas as pd \n",
    "import datetime\n",
    "#匯入csv檔\n",
    "#流星雨的資料(合適的觀賞月、可觀賞月和合適的觀察半球)\n",
    "meteor_showers = pd.read_csv('data/meteorshowers.csv')\n",
    "#月相\n",
    "moon_phases = pd.read_csv('data/moonphases.csv')\n",
    "#星座(包括觀察星座的緯度及合適的觀察月份)\n",
    "constellations = pd.read_csv('data/constellations.csv')\n",
    "#國家/地區首都/首要城市與其緯度\n",
    "cities = pd.read_csv('data/cities.csv')"
   ]
  },
  {
   "cell_type": "code",
   "execution_count": 33,
   "metadata": {},
   "outputs": [
    {
     "output_type": "execute_result",
     "data": {
      "text/plain": [
       "     month  day      moonphase specialevent\n",
       "0  january    1            NaN          NaN\n",
       "1  january    2  first quarter          NaN\n",
       "2  january    3            NaN          NaN\n",
       "3  january    4            NaN          NaN\n",
       "4  january    5            NaN          NaN"
      ],
      "text/html": "<div>\n<style scoped>\n    .dataframe tbody tr th:only-of-type {\n        vertical-align: middle;\n    }\n\n    .dataframe tbody tr th {\n        vertical-align: top;\n    }\n\n    .dataframe thead th {\n        text-align: right;\n    }\n</style>\n<table border=\"1\" class=\"dataframe\">\n  <thead>\n    <tr style=\"text-align: right;\">\n      <th></th>\n      <th>month</th>\n      <th>day</th>\n      <th>moonphase</th>\n      <th>specialevent</th>\n    </tr>\n  </thead>\n  <tbody>\n    <tr>\n      <th>0</th>\n      <td>january</td>\n      <td>1</td>\n      <td>NaN</td>\n      <td>NaN</td>\n    </tr>\n    <tr>\n      <th>1</th>\n      <td>january</td>\n      <td>2</td>\n      <td>first quarter</td>\n      <td>NaN</td>\n    </tr>\n    <tr>\n      <th>2</th>\n      <td>january</td>\n      <td>3</td>\n      <td>NaN</td>\n      <td>NaN</td>\n    </tr>\n    <tr>\n      <th>3</th>\n      <td>january</td>\n      <td>4</td>\n      <td>NaN</td>\n      <td>NaN</td>\n    </tr>\n    <tr>\n      <th>4</th>\n      <td>january</td>\n      <td>5</td>\n      <td>NaN</td>\n      <td>NaN</td>\n    </tr>\n  </tbody>\n</table>\n</div>"
     },
     "metadata": {},
     "execution_count": 33
    }
   ],
   "source": [
    "moon_phases.head()"
   ]
  },
  {
   "cell_type": "code",
   "execution_count": 34,
   "metadata": {},
   "outputs": [
    {
     "output_type": "stream",
     "name": "stdout",
     "text": [
      "<class 'pandas.core.frame.DataFrame'>\nRangeIndex: 366 entries, 0 to 365\nData columns (total 4 columns):\n #   Column        Non-Null Count  Dtype \n---  ------        --------------  ----- \n 0   month         366 non-null    object\n 1   day           366 non-null    int64 \n 2   moonphase     50 non-null     object\n 3   specialevent  10 non-null     object\ndtypes: int64(1), object(3)\nmemory usage: 11.6+ KB\n"
     ]
    }
   ],
   "source": [
    "#.info()可大致了解可能缺少的資料\n",
    "moon_phases.info()"
   ]
  },
  {
   "cell_type": "code",
   "execution_count": 35,
   "metadata": {},
   "outputs": [
    {
     "output_type": "execute_result",
     "data": {
      "text/plain": [
       "           name   radiant bestmonth startmonth  startday  endmonth  endday  \\\n",
       "0        Lyrids      Lyra     april      april        21     april      22   \n",
       "1  Eta Aquarids  Aquarius       may      april        19       may      28   \n",
       "2      Orionids     Orion   october    october         2  november       7   \n",
       "3      Perseids   Perseus    august       july        14    august      24   \n",
       "4       Leonids       Leo  november   november         6  november      30   \n",
       "\n",
       "           hemisphere preferredhemisphere  \n",
       "0            northern            northern  \n",
       "1  northern, southern            southern  \n",
       "2  northern, southern  northern, southern  \n",
       "3            northern            northern  \n",
       "4  northern, southern  northern, southern  "
      ],
      "text/html": "<div>\n<style scoped>\n    .dataframe tbody tr th:only-of-type {\n        vertical-align: middle;\n    }\n\n    .dataframe tbody tr th {\n        vertical-align: top;\n    }\n\n    .dataframe thead th {\n        text-align: right;\n    }\n</style>\n<table border=\"1\" class=\"dataframe\">\n  <thead>\n    <tr style=\"text-align: right;\">\n      <th></th>\n      <th>name</th>\n      <th>radiant</th>\n      <th>bestmonth</th>\n      <th>startmonth</th>\n      <th>startday</th>\n      <th>endmonth</th>\n      <th>endday</th>\n      <th>hemisphere</th>\n      <th>preferredhemisphere</th>\n    </tr>\n  </thead>\n  <tbody>\n    <tr>\n      <th>0</th>\n      <td>Lyrids</td>\n      <td>Lyra</td>\n      <td>april</td>\n      <td>april</td>\n      <td>21</td>\n      <td>april</td>\n      <td>22</td>\n      <td>northern</td>\n      <td>northern</td>\n    </tr>\n    <tr>\n      <th>1</th>\n      <td>Eta Aquarids</td>\n      <td>Aquarius</td>\n      <td>may</td>\n      <td>april</td>\n      <td>19</td>\n      <td>may</td>\n      <td>28</td>\n      <td>northern, southern</td>\n      <td>southern</td>\n    </tr>\n    <tr>\n      <th>2</th>\n      <td>Orionids</td>\n      <td>Orion</td>\n      <td>october</td>\n      <td>october</td>\n      <td>2</td>\n      <td>november</td>\n      <td>7</td>\n      <td>northern, southern</td>\n      <td>northern, southern</td>\n    </tr>\n    <tr>\n      <th>3</th>\n      <td>Perseids</td>\n      <td>Perseus</td>\n      <td>august</td>\n      <td>july</td>\n      <td>14</td>\n      <td>august</td>\n      <td>24</td>\n      <td>northern</td>\n      <td>northern</td>\n    </tr>\n    <tr>\n      <th>4</th>\n      <td>Leonids</td>\n      <td>Leo</td>\n      <td>november</td>\n      <td>november</td>\n      <td>6</td>\n      <td>november</td>\n      <td>30</td>\n      <td>northern, southern</td>\n      <td>northern, southern</td>\n    </tr>\n  </tbody>\n</table>\n</div>"
     },
     "metadata": {},
     "execution_count": 35
    }
   ],
   "source": [
    "meteor_showers.head()"
   ]
  },
  {
   "cell_type": "code",
   "execution_count": 36,
   "metadata": {},
   "outputs": [
    {
     "output_type": "stream",
     "name": "stdout",
     "text": [
      "<class 'pandas.core.frame.DataFrame'>\nRangeIndex: 5 entries, 0 to 4\nData columns (total 9 columns):\n #   Column               Non-Null Count  Dtype \n---  ------               --------------  ----- \n 0   name                 5 non-null      object\n 1   radiant              5 non-null      object\n 2   bestmonth            5 non-null      object\n 3   startmonth           5 non-null      object\n 4   startday             5 non-null      int64 \n 5   endmonth             5 non-null      object\n 6   endday               5 non-null      int64 \n 7   hemisphere           5 non-null      object\n 8   preferredhemisphere  5 non-null      object\ndtypes: int64(2), object(7)\nmemory usage: 488.0+ bytes\n"
     ]
    }
   ],
   "source": [
    "meteor_showers.info()"
   ]
  },
  {
   "cell_type": "code",
   "execution_count": 37,
   "metadata": {},
   "outputs": [
    {
     "output_type": "execute_result",
     "data": {
      "text/plain": [
       "  constellation bestmonth  latitudestart  latitudeend besttime hemisphere\n",
       "0          Lyra    august             90          -40    21:00   northern\n",
       "1      Aquarius   october             65          -90    21:00   southern\n",
       "2         Orion   january             85          -75    21:00   northern\n",
       "3       Perseus  december             90          -35    21:00   northern\n",
       "4           Leo     april             90           65    21:00   northern"
      ],
      "text/html": "<div>\n<style scoped>\n    .dataframe tbody tr th:only-of-type {\n        vertical-align: middle;\n    }\n\n    .dataframe tbody tr th {\n        vertical-align: top;\n    }\n\n    .dataframe thead th {\n        text-align: right;\n    }\n</style>\n<table border=\"1\" class=\"dataframe\">\n  <thead>\n    <tr style=\"text-align: right;\">\n      <th></th>\n      <th>constellation</th>\n      <th>bestmonth</th>\n      <th>latitudestart</th>\n      <th>latitudeend</th>\n      <th>besttime</th>\n      <th>hemisphere</th>\n    </tr>\n  </thead>\n  <tbody>\n    <tr>\n      <th>0</th>\n      <td>Lyra</td>\n      <td>august</td>\n      <td>90</td>\n      <td>-40</td>\n      <td>21:00</td>\n      <td>northern</td>\n    </tr>\n    <tr>\n      <th>1</th>\n      <td>Aquarius</td>\n      <td>october</td>\n      <td>65</td>\n      <td>-90</td>\n      <td>21:00</td>\n      <td>southern</td>\n    </tr>\n    <tr>\n      <th>2</th>\n      <td>Orion</td>\n      <td>january</td>\n      <td>85</td>\n      <td>-75</td>\n      <td>21:00</td>\n      <td>northern</td>\n    </tr>\n    <tr>\n      <th>3</th>\n      <td>Perseus</td>\n      <td>december</td>\n      <td>90</td>\n      <td>-35</td>\n      <td>21:00</td>\n      <td>northern</td>\n    </tr>\n    <tr>\n      <th>4</th>\n      <td>Leo</td>\n      <td>april</td>\n      <td>90</td>\n      <td>65</td>\n      <td>21:00</td>\n      <td>northern</td>\n    </tr>\n  </tbody>\n</table>\n</div>"
     },
     "metadata": {},
     "execution_count": 37
    }
   ],
   "source": [
    "constellations.head()"
   ]
  },
  {
   "cell_type": "code",
   "execution_count": 38,
   "metadata": {},
   "outputs": [
    {
     "output_type": "stream",
     "name": "stdout",
     "text": [
      "<class 'pandas.core.frame.DataFrame'>\nRangeIndex: 5 entries, 0 to 4\nData columns (total 6 columns):\n #   Column         Non-Null Count  Dtype \n---  ------         --------------  ----- \n 0   constellation  5 non-null      object\n 1   bestmonth      5 non-null      object\n 2   latitudestart  5 non-null      int64 \n 3   latitudeend    5 non-null      int64 \n 4   besttime       5 non-null      object\n 5   hemisphere     5 non-null      object\ndtypes: int64(2), object(4)\nmemory usage: 368.0+ bytes\n"
     ]
    }
   ],
   "source": [
    "constellations.info()"
   ]
  },
  {
   "cell_type": "code",
   "execution_count": 39,
   "metadata": {},
   "outputs": [
    {
     "output_type": "execute_result",
     "data": {
      "text/plain": [
       "                city  latitude               country\n",
       "0          Abu Dhabi     24.47  United Arab Emirates\n",
       "1              Abuja      9.07               Nigeria\n",
       "2              Accra      5.55                 Ghana\n",
       "3          Adamstown    -25.07      Pitcairn Islands\n",
       "4        Addis Ababa      9.02              Ethiopia\n",
       "5            Algiers     36.77               Algeria\n",
       "6              Alofi    -19.07                  Niue\n",
       "7              Amman     31.93                Jordan\n",
       "8          Amsterdam     52.37           Netherlands\n",
       "9   Andorra la Vella     42.50               Andorra\n",
       "10            Ankara     39.87                Turkey\n",
       "11      Antananarivo    -18.93            Madagascar\n",
       "12              Apia    -13.83                 Samoa\n",
       "13          Ashgabat     37.93          Turkmenistan\n",
       "14            Asmara     15.33               Eritrea\n",
       "15          Asuncion    -25.27              Paraguay\n",
       "16            Athens     37.97                Greece\n",
       "17            Avarua    -21.20          Cook Islands\n",
       "18           Baghdad     33.33                  Iraq\n",
       "19              Baku     40.38            Azerbaijan"
      ],
      "text/html": "<div>\n<style scoped>\n    .dataframe tbody tr th:only-of-type {\n        vertical-align: middle;\n    }\n\n    .dataframe tbody tr th {\n        vertical-align: top;\n    }\n\n    .dataframe thead th {\n        text-align: right;\n    }\n</style>\n<table border=\"1\" class=\"dataframe\">\n  <thead>\n    <tr style=\"text-align: right;\">\n      <th></th>\n      <th>city</th>\n      <th>latitude</th>\n      <th>country</th>\n    </tr>\n  </thead>\n  <tbody>\n    <tr>\n      <th>0</th>\n      <td>Abu Dhabi</td>\n      <td>24.47</td>\n      <td>United Arab Emirates</td>\n    </tr>\n    <tr>\n      <th>1</th>\n      <td>Abuja</td>\n      <td>9.07</td>\n      <td>Nigeria</td>\n    </tr>\n    <tr>\n      <th>2</th>\n      <td>Accra</td>\n      <td>5.55</td>\n      <td>Ghana</td>\n    </tr>\n    <tr>\n      <th>3</th>\n      <td>Adamstown</td>\n      <td>-25.07</td>\n      <td>Pitcairn Islands</td>\n    </tr>\n    <tr>\n      <th>4</th>\n      <td>Addis Ababa</td>\n      <td>9.02</td>\n      <td>Ethiopia</td>\n    </tr>\n    <tr>\n      <th>5</th>\n      <td>Algiers</td>\n      <td>36.77</td>\n      <td>Algeria</td>\n    </tr>\n    <tr>\n      <th>6</th>\n      <td>Alofi</td>\n      <td>-19.07</td>\n      <td>Niue</td>\n    </tr>\n    <tr>\n      <th>7</th>\n      <td>Amman</td>\n      <td>31.93</td>\n      <td>Jordan</td>\n    </tr>\n    <tr>\n      <th>8</th>\n      <td>Amsterdam</td>\n      <td>52.37</td>\n      <td>Netherlands</td>\n    </tr>\n    <tr>\n      <th>9</th>\n      <td>Andorra la Vella</td>\n      <td>42.50</td>\n      <td>Andorra</td>\n    </tr>\n    <tr>\n      <th>10</th>\n      <td>Ankara</td>\n      <td>39.87</td>\n      <td>Turkey</td>\n    </tr>\n    <tr>\n      <th>11</th>\n      <td>Antananarivo</td>\n      <td>-18.93</td>\n      <td>Madagascar</td>\n    </tr>\n    <tr>\n      <th>12</th>\n      <td>Apia</td>\n      <td>-13.83</td>\n      <td>Samoa</td>\n    </tr>\n    <tr>\n      <th>13</th>\n      <td>Ashgabat</td>\n      <td>37.93</td>\n      <td>Turkmenistan</td>\n    </tr>\n    <tr>\n      <th>14</th>\n      <td>Asmara</td>\n      <td>15.33</td>\n      <td>Eritrea</td>\n    </tr>\n    <tr>\n      <th>15</th>\n      <td>Asuncion</td>\n      <td>-25.27</td>\n      <td>Paraguay</td>\n    </tr>\n    <tr>\n      <th>16</th>\n      <td>Athens</td>\n      <td>37.97</td>\n      <td>Greece</td>\n    </tr>\n    <tr>\n      <th>17</th>\n      <td>Avarua</td>\n      <td>-21.20</td>\n      <td>Cook Islands</td>\n    </tr>\n    <tr>\n      <th>18</th>\n      <td>Baghdad</td>\n      <td>33.33</td>\n      <td>Iraq</td>\n    </tr>\n    <tr>\n      <th>19</th>\n      <td>Baku</td>\n      <td>40.38</td>\n      <td>Azerbaijan</td>\n    </tr>\n  </tbody>\n</table>\n</div>"
     },
     "metadata": {},
     "execution_count": 39
    }
   ],
   "source": [
    "cities.head(20)"
   ]
  },
  {
   "cell_type": "code",
   "execution_count": 40,
   "metadata": {},
   "outputs": [
    {
     "output_type": "stream",
     "name": "stdout",
     "text": [
      "<class 'pandas.core.frame.DataFrame'>\nRangeIndex: 256 entries, 0 to 255\nData columns (total 3 columns):\n #   Column    Non-Null Count  Dtype  \n---  ------    --------------  -----  \n 0   city      256 non-null    object \n 1   latitude  256 non-null    float64\n 2   country   256 non-null    object \ndtypes: float64(1), object(2)\nmemory usage: 6.1+ KB\n"
     ]
    }
   ],
   "source": [
    "cities.info()"
   ]
  },
  {
   "cell_type": "code",
   "execution_count": 41,
   "metadata": {},
   "outputs": [
    {
     "output_type": "execute_result",
     "data": {
      "text/plain": [
       "           name   radiant  bestmonth  startmonth  startday  endmonth  endday  \\\n",
       "0        Lyrids      Lyra          4           4        21         4      22   \n",
       "1  Eta Aquarids  Aquarius          5           4        19         5      28   \n",
       "2      Orionids     Orion         10          10         2        11       7   \n",
       "3      Perseids   Perseus          8           7        14         8      24   \n",
       "4       Leonids       Leo         11          11         6        11      30   \n",
       "\n",
       "           hemisphere preferredhemisphere  \n",
       "0            northern            northern  \n",
       "1  northern, southern            southern  \n",
       "2  northern, southern  northern, southern  \n",
       "3            northern            northern  \n",
       "4  northern, southern  northern, southern  "
      ],
      "text/html": "<div>\n<style scoped>\n    .dataframe tbody tr th:only-of-type {\n        vertical-align: middle;\n    }\n\n    .dataframe tbody tr th {\n        vertical-align: top;\n    }\n\n    .dataframe thead th {\n        text-align: right;\n    }\n</style>\n<table border=\"1\" class=\"dataframe\">\n  <thead>\n    <tr style=\"text-align: right;\">\n      <th></th>\n      <th>name</th>\n      <th>radiant</th>\n      <th>bestmonth</th>\n      <th>startmonth</th>\n      <th>startday</th>\n      <th>endmonth</th>\n      <th>endday</th>\n      <th>hemisphere</th>\n      <th>preferredhemisphere</th>\n    </tr>\n  </thead>\n  <tbody>\n    <tr>\n      <th>0</th>\n      <td>Lyrids</td>\n      <td>Lyra</td>\n      <td>4</td>\n      <td>4</td>\n      <td>21</td>\n      <td>4</td>\n      <td>22</td>\n      <td>northern</td>\n      <td>northern</td>\n    </tr>\n    <tr>\n      <th>1</th>\n      <td>Eta Aquarids</td>\n      <td>Aquarius</td>\n      <td>5</td>\n      <td>4</td>\n      <td>19</td>\n      <td>5</td>\n      <td>28</td>\n      <td>northern, southern</td>\n      <td>southern</td>\n    </tr>\n    <tr>\n      <th>2</th>\n      <td>Orionids</td>\n      <td>Orion</td>\n      <td>10</td>\n      <td>10</td>\n      <td>2</td>\n      <td>11</td>\n      <td>7</td>\n      <td>northern, southern</td>\n      <td>northern, southern</td>\n    </tr>\n    <tr>\n      <th>3</th>\n      <td>Perseids</td>\n      <td>Perseus</td>\n      <td>8</td>\n      <td>7</td>\n      <td>14</td>\n      <td>8</td>\n      <td>24</td>\n      <td>northern</td>\n      <td>northern</td>\n    </tr>\n    <tr>\n      <th>4</th>\n      <td>Leonids</td>\n      <td>Leo</td>\n      <td>11</td>\n      <td>11</td>\n      <td>6</td>\n      <td>11</td>\n      <td>30</td>\n      <td>northern, southern</td>\n      <td>northern, southern</td>\n    </tr>\n  </tbody>\n</table>\n</div>"
     },
     "metadata": {},
     "execution_count": 41
    }
   ],
   "source": [
    "#將月份資料行轉成數字呈現\n",
    "months = {'january':1, 'february':2, 'march':3, 'april':4, 'may':5, 'june':6, 'july':7, 'august':8, 'september':9, 'october':10, 'november':11, 'december':12}\n",
    "meteor_showers.bestmonth = meteor_showers.bestmonth.map(months)\n",
    "meteor_showers.startmonth = meteor_showers.startmonth.map(months)\n",
    "meteor_showers.endmonth = meteor_showers.endmonth.map(months)\n",
    "moon_phases.month = moon_phases.month.map(months)\n",
    "constellations.bestmonth = constellations.bestmonth.map(months)\n",
    "meteor_showers.head()"
   ]
  },
  {
   "cell_type": "code",
   "execution_count": 42,
   "metadata": {},
   "outputs": [
    {
     "output_type": "stream",
     "name": "stdout",
     "text": [
      "<class 'pandas.core.frame.DataFrame'>\nRangeIndex: 5 entries, 0 to 4\nData columns (total 9 columns):\n #   Column               Non-Null Count  Dtype \n---  ------               --------------  ----- \n 0   name                 5 non-null      object\n 1   radiant              5 non-null      object\n 2   bestmonth            5 non-null      int64 \n 3   startmonth           5 non-null      int64 \n 4   startday             5 non-null      int64 \n 5   endmonth             5 non-null      int64 \n 6   endday               5 non-null      int64 \n 7   hemisphere           5 non-null      object\n 8   preferredhemisphere  5 non-null      object\ndtypes: int64(5), object(4)\nmemory usage: 488.0+ bytes\n"
     ]
    }
   ],
   "source": [
    "meteor_showers.info()"
   ]
  },
  {
   "cell_type": "code",
   "execution_count": 43,
   "metadata": {},
   "outputs": [
    {
     "output_type": "execute_result",
     "data": {
      "text/plain": [
       "   month  day      moonphase specialevent       date  percentage\n",
       "0      1    1            NaN          NaN 2020-01-01         NaN\n",
       "1      1    2  first quarter          NaN 2020-01-02         0.5\n",
       "2      1    3            NaN          NaN 2020-01-03         NaN\n",
       "3      1    4            NaN          NaN 2020-01-04         NaN\n",
       "4      1    5            NaN          NaN 2020-01-05         NaN"
      ],
      "text/html": "<div>\n<style scoped>\n    .dataframe tbody tr th:only-of-type {\n        vertical-align: middle;\n    }\n\n    .dataframe tbody tr th {\n        vertical-align: top;\n    }\n\n    .dataframe thead th {\n        text-align: right;\n    }\n</style>\n<table border=\"1\" class=\"dataframe\">\n  <thead>\n    <tr style=\"text-align: right;\">\n      <th></th>\n      <th>month</th>\n      <th>day</th>\n      <th>moonphase</th>\n      <th>specialevent</th>\n      <th>date</th>\n      <th>percentage</th>\n    </tr>\n  </thead>\n  <tbody>\n    <tr>\n      <th>0</th>\n      <td>1</td>\n      <td>1</td>\n      <td>NaN</td>\n      <td>NaN</td>\n      <td>2020-01-01</td>\n      <td>NaN</td>\n    </tr>\n    <tr>\n      <th>1</th>\n      <td>1</td>\n      <td>2</td>\n      <td>first quarter</td>\n      <td>NaN</td>\n      <td>2020-01-02</td>\n      <td>0.5</td>\n    </tr>\n    <tr>\n      <th>2</th>\n      <td>1</td>\n      <td>3</td>\n      <td>NaN</td>\n      <td>NaN</td>\n      <td>2020-01-03</td>\n      <td>NaN</td>\n    </tr>\n    <tr>\n      <th>3</th>\n      <td>1</td>\n      <td>4</td>\n      <td>NaN</td>\n      <td>NaN</td>\n      <td>2020-01-04</td>\n      <td>NaN</td>\n    </tr>\n    <tr>\n      <th>4</th>\n      <td>1</td>\n      <td>5</td>\n      <td>NaN</td>\n      <td>NaN</td>\n      <td>2020-01-05</td>\n      <td>NaN</td>\n    </tr>\n  </tbody>\n</table>\n</div>"
     },
     "metadata": {},
     "execution_count": 43
    }
   ],
   "source": [
    "#建立startdate 和 enddate的新資料行\n",
    "meteor_showers['startdate'] = pd.to_datetime(2020*10000+meteor_showers.startmonth*100+meteor_showers.startday,format='%Y%m%d')\n",
    "meteor_showers['enddate'] = pd.to_datetime(2020*10000+meteor_showers.endmonth*100+meteor_showers.endday,format='%Y%m%d')\n",
    "moon_phases['date'] = pd.to_datetime(2020*10000+moon_phases.month*100+moon_phases.day,format='%Y%m%d')\n",
    "hemispheres = {'northern':0, 'southern':1, 'northern, southern':3}\n",
    "meteor_showers.hemisphere = meteor_showers.hemisphere.map(hemispheres)\n",
    "constellations.hemisphere = constellations.hemisphere.map(hemispheres)\n",
    "phases = {'new moon':0,'third quarter':0.5, 'first quarter':0.5,'full moon':1.0}\n",
    "moon_phases['percentage'] = moon_phases.moonphase.map(phases)\n",
    "moon_phases.head()"
   ]
  },
  {
   "cell_type": "code",
   "execution_count": 44,
   "metadata": {},
   "outputs": [],
   "source": [
    "#移除不必要的資料\n",
    "meteor_showers = meteor_showers.drop(['startmonth', 'startday', 'endmonth', 'endday', 'hemisphere'], axis=1)\n",
    "moon_phases = moon_phases.drop(['month','day','moonphase','specialevent'], axis=1)\n",
    "constellations = constellations.drop(['besttime'], axis=1)"
   ]
  },
  {
   "cell_type": "code",
   "execution_count": 45,
   "metadata": {},
   "outputs": [
    {
     "output_type": "stream",
     "name": "stdout",
     "text": [
      "<class 'pandas.core.frame.DataFrame'>\nRangeIndex: 366 entries, 0 to 365\nData columns (total 2 columns):\n #   Column      Non-Null Count  Dtype         \n---  ------      --------------  -----         \n 0   date        366 non-null    datetime64[ns]\n 1   percentage  50 non-null     float64       \ndtypes: datetime64[ns](1), float64(1)\nmemory usage: 5.8 KB\n"
     ]
    }
   ],
   "source": [
    "moon_phases.info()"
   ]
  },
  {
   "cell_type": "code",
   "execution_count": 46,
   "metadata": {},
   "outputs": [
    {
     "output_type": "stream",
     "name": "stdout",
     "text": [
      "<class 'pandas.core.frame.DataFrame'>\nRangeIndex: 366 entries, 0 to 365\nData columns (total 2 columns):\n #   Column      Non-Null Count  Dtype         \n---  ------      --------------  -----         \n 0   date        366 non-null    datetime64[ns]\n 1   percentage  366 non-null    float64       \ndtypes: datetime64[ns](1), float64(1)\nmemory usage: 5.8 KB\n"
     ]
    }
   ],
   "source": [
    "lastPhase = 0\n",
    "for index, row in moon_phases.iterrows():\n",
    "    if pd.isnull(row['percentage']):\n",
    "        moon_phases.at[index,'percentage'] = lastPhase\n",
    "    else:\n",
    "        lastPhase = row['percentage']\n",
    "moon_phases.info()"
   ]
  },
  {
   "cell_type": "code",
   "execution_count": 57,
   "metadata": {},
   "outputs": [],
   "source": [
    "'''\n",
    "撰寫預測函式\n",
    "    1.判斷城市的緯度\n",
    "    2.使用該緯度來找出可以在該城市看到哪些星座\n",
    "    3.使用星座來判斷可以在該城市看到哪些流星雨\n",
    "    4.使用流星雨來判斷看見該現象的日期\n",
    "    5.使用日期來找出月球亮度最低的最佳日期\n",
    "'''\n",
    "def predict_best_meteor_shower_viewing(city):\n",
    "    #取得城市緯度\n",
    "    latitude = cities.loc[cities['city'] == city, 'latitude'].iloc[0]\n",
    "    #取得該城市能看到的星座\n",
    "    constellation_list = constellations.loc[(constellations['latitudestart'] >= latitude) & (constellations['latitudeend'] <= latitude), 'constellation'].tolist()\n",
    "    #return latitude\n",
    "    return constellation_list\n"
   ]
  },
  {
   "cell_type": "code",
   "execution_count": 53,
   "metadata": {},
   "outputs": [
    {
     "output_type": "stream",
     "name": "stdout",
     "text": [
      "37.97\n"
     ]
    }
   ],
   "source": [
    "print(predict_best_meteor_shower_viewing('Athens'))"
   ]
  },
  {
   "cell_type": "code",
   "execution_count": 55,
   "metadata": {},
   "outputs": [
    {
     "output_type": "stream",
     "name": "stdout",
     "text": [
      "24.47\n"
     ]
    }
   ],
   "source": [
    "print(predict_best_meteor_shower_viewing('Abu Dhabi'))"
   ]
  },
  {
   "cell_type": "code",
   "execution_count": 60,
   "metadata": {},
   "outputs": [],
   "source": [
    "def predict_best_meteor_shower_viewing(city):\n",
    "    #發生任何事情前先傳回以確保不會發生錯誤\n",
    "    meteor_shower_string = \"\"\n",
    "    if city not in cities.values:\n",
    "        meteor_shower_string = \"Unfortunately, \" + city + \" isn't available for a prediction at this time.\"\n",
    "        return meteor_shower_string\n",
    "    #取得城市緯度\n",
    "    latitude = cities.loc[cities['city'] == city, 'latitude'].iloc[0]\n",
    "    #取得該城市能看到的星座\n",
    "    constellation_list = constellations.loc[(constellations['latitudestart'] >= latitude) & (constellations['latitudeend'] <= latitude), 'constellation'].tolist()\n",
    "    #如果無法觀測到星座，讓使用者知道\n",
    "    if not constellation_list:\n",
    "        meteor_shower_string = \"Unfortunately, there are no meteor showers viewable from \"+ city + \".\"\n",
    "        return meteor_shower_string\n",
    "    meteor_shower_string = \"In \" + city + \" you can see the following meteor showers:\\n\"\n",
    "\n",
    "    for constellation in constellation_list:\n",
    "        #該星座的流星雨\n",
    "        meteor_shower = meteor_showers.loc[meteor_showers['radiant'] == constellation, 'name'].iloc[0]\n",
    "        #開始時間與結束時間\n",
    "        meteor_shower_startdate = meteor_showers.loc[meteor_showers['radiant'] == constellation, 'startdate'].iloc[0]\n",
    "        meteor_shower_enddate = meteor_showers.loc[meteor_showers['radiant'] == constellation, 'enddate'].iloc[0]\n",
    "        # 在流星雨可見時間的月相\n",
    "        moon_phases_list = moon_phases.loc[(moon_phases['date'] >= meteor_shower_startdate) & (moon_phases['date'] <= meteor_shower_enddate)]\n",
    "        #月球發出的亮度最低(只抓取第一個日期)\n",
    "        best_moon_date = moon_phases_list.loc[moon_phases_list['percentage'].idxmin()]['date']\n",
    "\n",
    "        meteor_shower_string += meteor_shower + \" is best seen if you look towards the \" + constellation + \" constellation on \" +  best_moon_date.to_pydatetime().strftime(\"%B %d, %Y\") + \".\\n\"\n",
    "    \n",
    "    return meteor_shower_string"
   ]
  },
  {
   "cell_type": "code",
   "execution_count": 66,
   "metadata": {},
   "outputs": [
    {
     "output_type": "stream",
     "name": "stdout",
     "text": [
      "Unfortunately, taipei isn't available for a prediction at this time.\n\n\nIn Baghdad you can see the following meteor showers:\nLyrids is best seen if you look towards the Lyra constellation on April 22, 2020.\nEta Aquarids is best seen if you look towards the Aquarius constellation on April 22, 2020.\nOrionids is best seen if you look towards the Orion constellation on October 16, 2020.\nPerseids is best seen if you look towards the Perseus constellation on July 20, 2020.\n\n"
     ]
    }
   ],
   "source": [
    "print(predict_best_meteor_shower_viewing('taipei'))\n",
    "print(\"\\n\")\n",
    "print(predict_best_meteor_shower_viewing('Baghdad'))"
   ]
  },
  {
   "cell_type": "code",
   "execution_count": null,
   "metadata": {},
   "outputs": [],
   "source": []
  }
 ]
}